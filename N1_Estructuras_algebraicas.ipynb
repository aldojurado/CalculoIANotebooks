{
 "cells": [
  {
   "cell_type": "markdown",
   "id": "3853f85f-6a34-4b37-a3ec-58eadc466e6b",
   "metadata": {},
   "source": [
    "# Estructuras algebraicas y sus propiedades\n",
    "\n",
    "## Repaso de las distintas estructuras algebraicas\n",
    "\n",
    "Una **estructura algebraica** es un conjunto junto con una o más operaciones. Las diferentes estructuras algebraicas son nombradas de acuerdo a las propiedades que cumplen. Podemos visualizar estas estructuras como si fueran una muñeca matrioshka rusa, ya que a medida que ganan propiedades, también encapsulan estructuras algebraicas más pequeñas (en términos de propiedades y operaciones).\n",
    "\n",
    "## Grupo\n",
    "\n",
    "Una de las estructuras algebraicas más elementales es el **grupo** $(G,+_G)$, que consiste en un conjunto junto con una única operación llamada *suma en G*. Las propiedades que cumple esta estructura son:\n",
    "\n",
    "- 1) Asociatividad\n",
    "- 2) Existencia de un elemento neutro\n",
    "- 3) Existencia de inverso para cada elemento en el grupo\n",
    "- Cerradura bajo la operación\n",
    "\n",
    "## Grupo Abeliano\n",
    "\n",
    "El **grupo abeliano** es una extensión del grupo en la que se cumple todo lo mencionado anteriormente, además de la propiedad de **conmutatividad** en su suma.\n",
    "\n",
    "## Anillo\n",
    "\n",
    "El **anillo** es una estructura que combina las propiedades de un grupo abeliano con una operación adicional, llamada *multiplicación en A*. Las propiedades adicionales respecto a la multiplicación son:\n",
    "\n",
    "- Asociatividad en la multiplicación\n",
    "- Distribución de la suma en A respecto a la multiplicación en A\n",
    "\n",
    "## Anillo Conmutativo con Unitario\n",
    "\n",
    "El **anillo conmutativo con unitario** es un anillo que agrega las siguientes propiedades:\n",
    "\n",
    "- Neutro multiplicativo\n",
    "- Conmutatividad en la operación de multiplicación en A\n",
    "\n",
    "## Dominio Entero\n",
    "\n",
    "El **dominio entero** es un anillo conmutativo con unitario que cumple:\n",
    "\n",
    "- 0A es diferente de 1A\n",
    "- Para todo a, b: si a * b = 0, entonces a = 0 o b = 0\n",
    "\n",
    "## Llegando a los Enteros\n",
    "\n",
    "Los enteros, junto con las operaciones de suma y multiplicación, forman un **dominio entero**. Es interesante notar que al ser un dominio entero, también implica que es un anillo conmutativo con unitario, un anillo, un grupo abeliano y un grupo. Esta analogía se asemeja a la estructura de una muñeca matrioshka rusa."
   ]
  },
  {
   "cell_type": "code",
   "execution_count": null,
   "id": "453a3680-9275-4822-ab83-ffded8228ff6",
   "metadata": {},
   "outputs": [],
   "source": []
  }
 ],
 "metadata": {
  "kernelspec": {
   "display_name": "Python 3 (ipykernel)",
   "language": "python",
   "name": "python3"
  },
  "language_info": {
   "codemirror_mode": {
    "name": "ipython",
    "version": 3
   },
   "file_extension": ".py",
   "mimetype": "text/x-python",
   "name": "python",
   "nbconvert_exporter": "python",
   "pygments_lexer": "ipython3",
   "version": "3.10.10"
  }
 },
 "nbformat": 4,
 "nbformat_minor": 5
}
